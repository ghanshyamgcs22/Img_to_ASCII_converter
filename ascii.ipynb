{
 "cells": [
  {
   "cell_type": "code",
   "execution_count": 27,
   "metadata": {},
   "outputs": [],
   "source": [
    "import PIL.Image\n",
    "\n",
    "img_flag = True\n",
    "path = input(\"Enter the path to the image file: \\n\")\n",
    "\n",
    "try:\n",
    "    img = PIL.Image.open(path)\n",
    "    img_flag = True\n",
    "except Exception as e:\n",
    "    print(\"Unable to open image:\", e)\n",
    "    img_flag = False\n",
    "\n",
    "if img_flag:\n",
    "    width, height = img.size\n",
    "    aspect_ratio = height / width\n",
    "    new_width = 120\n",
    "    new_height = aspect_ratio * new_width * 0.55\n",
    "    img = img.resize((new_width, int(new_height)))\n",
    "\n",
    "    img = img.convert('L')\n",
    "\n",
    "    chars = [\" \", \".\", \",\", \"-\", \"~\", \"+\", \"=\", \"-\"]\n",
    "    char_length = len(chars)\n",
    "    pixels = img.getdata()\n",
    "    \n",
    "    scaled_pixels = [int(pixel / 255 * (char_length - 1)) for pixel in pixels]\n",
    "\n",
    "    new_pixels = [chars[pixel] for pixel in scaled_pixels]\n",
    "    new_pixels = ''.join(new_pixels)\n",
    "    new_pixels_count = len(new_pixels)\n",
    "    ascii_image = [new_pixels[index:index + new_width] for index in range(0, new_pixels_count, new_width)]\n",
    "    ascii_image = \"\\n\".join(ascii_image)\n",
    "\n",
    "    with open(\"ascii_image.txt\", \"w\") as f:\n",
    "        f.write(ascii_image)\n"
   ]
  }
 ],
 "metadata": {
  "kernelspec": {
   "display_name": "Python 3",
   "language": "python",
   "name": "python3"
  },
  "language_info": {
   "codemirror_mode": {
    "name": "ipython",
    "version": 3
   },
   "file_extension": ".py",
   "mimetype": "text/x-python",
   "name": "python",
   "nbconvert_exporter": "python",
   "pygments_lexer": "ipython3",
   "version": "3.10.7"
  }
 },
 "nbformat": 4,
 "nbformat_minor": 2
}
